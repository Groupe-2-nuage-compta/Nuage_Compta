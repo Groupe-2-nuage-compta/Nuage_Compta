{
 "metadata": {
  "language_info": {
   "codemirror_mode": {
    "name": "ipython",
    "version": 3
   },
   "file_extension": ".py",
   "mimetype": "text/x-python",
   "name": "python",
   "nbconvert_exporter": "python",
   "pygments_lexer": "ipython3",
   "version": "3.6.12-final"
  },
  "orig_nbformat": 2,
  "kernelspec": {
   "name": "python3",
   "display_name": "Python 3"
  }
 },
 "nbformat": 4,
 "nbformat_minor": 2,
 "cells": [
  {
   "cell_type": "code",
   "execution_count": 1,
   "metadata": {},
   "outputs": [
    {
     "output_type": "stream",
     "name": "stderr",
     "text": [
      "Using TensorFlow backend.\n"
     ]
    }
   ],
   "source": [
    "from pdf2image import convert_from_path \n",
    "import pytesseract \n",
    "\n",
    "from src import functions as F\n",
    "from src import download as D"
   ]
  },
  {
   "cell_type": "code",
   "execution_count": 4,
   "metadata": {},
   "outputs": [
    {
     "output_type": "stream",
     "name": "stdout",
     "text": [
      "Data downloading...\n",
      "[■■■■■■■■■■■■■■■■■■■■■■■■■■■■■■■■■■■■■■■■■■■■■■■■■ ]"
     ]
    }
   ],
   "source": [
    "downloader = D.downloader(\"./data\")\n",
    "\n",
    "downloader.data_download(\"dataset.zip\", \"https://stdatalake006.blob.core.windows.net/public/alphabet-dataset.zip\")\n",
    "\n",
    "downloader.data_extract(\"dataset.zip\")"
   ]
  },
  {
   "cell_type": "code",
   "execution_count": 2,
   "metadata": {},
   "outputs": [],
   "source": [
    "DATADIR = \"./data/RAW/alphabet-dataset\"\n",
    "IMG_SIZE = 28"
   ]
  },
  {
   "source": [
    "# Preparation et entrainement du modele"
   ],
   "cell_type": "markdown",
   "metadata": {}
  },
  {
   "cell_type": "code",
   "execution_count": 4,
   "metadata": {},
   "outputs": [
    {
     "output_type": "stream",
     "name": "stdout",
     "text": [
      "Chargement 50000 fichiers lettres\n",
      "Chargement 100000 fichiers lettres\n",
      "Chargement 150000 fichiers lettres\n",
      "Chargement 200000 fichiers lettres\n",
      "Chargement 250000 fichiers lettres\n",
      "Chargement 300000 fichiers lettres\n",
      "Chargement 350000 fichiers lettres\n",
      "Train on 265726 samples, validate on 88576 samples\n",
      "Epoch 1/10\n",
      "265726/265726 [==============================] - 35s 132us/sample - loss: 0.2933 - accuracy: 0.9183 - val_loss: 0.1213 - val_accuracy: 0.9664\n",
      "Epoch 2/10\n",
      "265726/265726 [==============================] - 17s 65us/sample - loss: 0.0966 - accuracy: 0.9737 - val_loss: 0.0866 - val_accuracy: 0.9767\n",
      "Epoch 3/10\n",
      "265726/265726 [==============================] - 17s 64us/sample - loss: 0.0771 - accuracy: 0.9788 - val_loss: 0.0738 - val_accuracy: 0.9795\n",
      "Epoch 4/10\n",
      "265726/265726 [==============================] - 17s 65us/sample - loss: 0.0651 - accuracy: 0.9822 - val_loss: 0.0704 - val_accuracy: 0.9798\n",
      "Epoch 5/10\n",
      "265726/265726 [==============================] - 17s 65us/sample - loss: 0.0571 - accuracy: 0.9844 - val_loss: 0.0609 - val_accuracy: 0.9836\n",
      "Epoch 6/10\n",
      "265726/265726 [==============================] - 17s 65us/sample - loss: 0.0508 - accuracy: 0.9862 - val_loss: 0.0558 - val_accuracy: 0.9846\n",
      "Epoch 7/10\n",
      "265726/265726 [==============================] - 18s 68us/sample - loss: 0.0456 - accuracy: 0.9873 - val_loss: 0.0521 - val_accuracy: 0.9860\n",
      "Epoch 8/10\n",
      "265726/265726 [==============================] - 18s 69us/sample - loss: 0.0412 - accuracy: 0.9886 - val_loss: 0.0527 - val_accuracy: 0.9852\n",
      "Epoch 9/10\n",
      "265726/265726 [==============================] - 19s 70us/sample - loss: 0.0371 - accuracy: 0.9897 - val_loss: 0.0472 - val_accuracy: 0.9872\n",
      "Epoch 10/10\n",
      "265726/265726 [==============================] - 19s 72us/sample - loss: 0.0344 - accuracy: 0.9904 - val_loss: 0.0459 - val_accuracy: 0.9868\n",
      "Model complete.\n"
     ]
    }
   ],
   "source": [
    "X, y, categories_data = F.create_train_data(DATADIR, IMG_SIZE)\n",
    "F.create_and_train_model(X, y, \"model_A-Z.h5\", categories_data)\n",
    "\n",
    "del X\n",
    "del y\n",
    "del categories_data"
   ]
  },
  {
   "cell_type": "code",
   "execution_count": 7,
   "metadata": {},
   "outputs": [
    {
     "output_type": "stream",
     "name": "stdout",
     "text": [
      "Chargement 50000 fichiers lettres\n",
      "Chargement 100000 fichiers lettres\n",
      "Chargement 150000 fichiers lettres\n",
      "Chargement 200000 fichiers lettres\n",
      "Chargement 250000 fichiers lettres\n",
      "Chargement 300000 fichiers lettres\n",
      "Chargement 350000 fichiers lettres\n",
      "Chargement 5000 fichiers chiffres\n",
      "Chargement 10000 fichiers chiffres\n",
      "Chargement 15000 fichiers chiffres\n",
      "Chargement 20000 fichiers chiffres\n",
      "Chargement 25000 fichiers chiffres\n",
      "Chargement 30000 fichiers chiffres\n",
      "Chargement 35000 fichiers chiffres\n",
      "Chargement 40000 fichiers chiffres\n",
      "Chargement 45000 fichiers chiffres\n",
      "Chargement 50000 fichiers chiffres\n",
      "Chargement 55000 fichiers chiffres\n",
      "Chargement 60000 fichiers chiffres\n",
      "Train on 310726 samples, validate on 103576 samples\n",
      "Epoch 1/10\n",
      "310726/310726 [==============================] - 23s 75us/sample - loss: 0.4188 - accuracy: 0.8841 - val_loss: 0.1924 - val_accuracy: 0.9453\n",
      "Epoch 2/10\n",
      "310726/310726 [==============================] - 20s 64us/sample - loss: 0.1634 - accuracy: 0.9539 - val_loss: 0.1405 - val_accuracy: 0.9603\n",
      "Epoch 3/10\n",
      "310726/310726 [==============================] - 20s 64us/sample - loss: 0.1294 - accuracy: 0.9635 - val_loss: 0.1235 - val_accuracy: 0.9652\n",
      "Epoch 4/10\n",
      "310726/310726 [==============================] - 19s 63us/sample - loss: 0.1106 - accuracy: 0.9686 - val_loss: 0.1072 - val_accuracy: 0.9694\n",
      "Epoch 5/10\n",
      "310726/310726 [==============================] - 20s 63us/sample - loss: 0.0980 - accuracy: 0.9723 - val_loss: 0.0975 - val_accuracy: 0.9722\n",
      "Epoch 6/10\n",
      "310726/310726 [==============================] - 20s 64us/sample - loss: 0.0883 - accuracy: 0.9748 - val_loss: 0.0868 - val_accuracy: 0.9754\n",
      "Epoch 7/10\n",
      "310726/310726 [==============================] - 21s 68us/sample - loss: 0.0803 - accuracy: 0.9768 - val_loss: 0.0893 - val_accuracy: 0.9750\n",
      "Epoch 8/10\n",
      "310726/310726 [==============================] - 21s 67us/sample - loss: 0.0737 - accuracy: 0.9787 - val_loss: 0.0802 - val_accuracy: 0.9777\n",
      "Epoch 9/10\n",
      "310726/310726 [==============================] - 22s 70us/sample - loss: 0.0691 - accuracy: 0.9800 - val_loss: 0.0777 - val_accuracy: 0.9779\n",
      "Epoch 10/10\n",
      "310726/310726 [==============================] - 20s 63us/sample - loss: 0.0647 - accuracy: 0.9811 - val_loss: 0.0769 - val_accuracy: 0.9781\n",
      "Model complete.\n"
     ]
    }
   ],
   "source": [
    "X, y, categories_data = F.create_train_data(DATADIR, IMG_SIZE, numbers=True)\n",
    "F.create_and_train_model(X, y, \"model_A-Z-1-9.h5\", categories_data)\n",
    "\n",
    "del X\n",
    "del y\n",
    "del categories_data"
   ]
  },
  {
   "source": [
    "# Utilisation du modele\n",
    "## Using OpenCV"
   ],
   "cell_type": "markdown",
   "metadata": {}
  },
  {
   "cell_type": "code",
   "execution_count": 2,
   "metadata": {
    "tags": []
   },
   "outputs": [
    {
     "output_type": "stream",
     "name": "stdout",
     "text": [
      "[INFO] F - 99.07%\n[INFO] O - 99.89%\n[INFO] R - 99.97%\n[INFO] M - 99.12%\n[INFO] A - 98.76%\n[INFO] T - 99.23%\n[INFO] N - 55.22%\n[INFO] C - 73.40%\n[INFO] N - 99.73%\n[INFO] D - 99.71%\n[INFO] A - 63.28%\n[INFO] T - 76.37%\n[INFO] A - 99.89%\n[INFO] N - 80.46%\n[INFO] A - 99.99%\n"
     ]
    },
    {
     "output_type": "display_data",
     "data": {
      "text/plain": "<Figure size 432x288 with 1 Axes>",
      "image/svg+xml": "<?xml version=\"1.0\" encoding=\"utf-8\" standalone=\"no\"?>\r\n<!DOCTYPE svg PUBLIC \"-//W3C//DTD SVG 1.1//EN\"\r\n  \"http://www.w3.org/Graphics/SVG/1.1/DTD/svg11.dtd\">\r\n<!-- Created with matplotlib (https://matplotlib.org/) -->\r\n<svg height=\"166.549019pt\" version=\"1.1\" viewBox=\"0 0 375.2875 166.549019\" width=\"375.2875pt\" xmlns=\"http://www.w3.org/2000/svg\" xmlns:xlink=\"http://www.w3.org/1999/xlink\">\r\n <defs>\r\n  <style type=\"text/css\">\r\n*{stroke-linecap:butt;stroke-linejoin:round;}\r\n  </style>\r\n </defs>\r\n <g id=\"figure_1\">\r\n  <g id=\"patch_1\">\r\n   <path d=\"M 0 166.549019 \r\nL 375.2875 166.549019 \r\nL 375.2875 0 \r\nL 0 0 \r\nz\r\n\" style=\"fill:none;\"/>\r\n  </g>\r\n  <g id=\"axes_1\">\r\n   <g id=\"patch_2\">\r\n    <path d=\"M 33.2875 142.670894 \r\nL 368.0875 142.670894 \r\nL 368.0875 10.887916 \r\nL 33.2875 10.887916 \r\nz\r\n\" style=\"fill:#ffffff;\"/>\r\n   </g>\r\n   <g clip-path=\"url(#p8ae2ecc9c0)\">\r\n    <image height=\"132\" id=\"imagedab2f1ed8a\" transform=\"scale(1 -1)translate(0 -132)\" width=\"335\" x=\"33.2875\" xlink:href=\"data:image/png;base64,\r\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\" y=\"-10.670894\"/>\r\n   </g>\r\n   <g id=\"matplotlib.axis_1\">\r\n    <g id=\"xtick_1\">\r\n     <g id=\"line2d_1\">\r\n      <defs>\r\n       <path d=\"M 0 0 \r\nL 0 3.5 \r\n\" id=\"md88c2b602a\" style=\"stroke:#000000;stroke-width:0.8;\"/>\r\n      </defs>\r\n      <g>\r\n       <use style=\"stroke:#000000;stroke-width:0.8;\" x=\"33.398803\" xlink:href=\"#md88c2b602a\" y=\"142.670894\"/>\r\n      </g>\r\n     </g>\r\n     <g id=\"text_1\">\r\n      <!-- 0 -->\r\n      <defs>\r\n       <path d=\"M 31.78125 66.40625 \r\nQ 24.171875 66.40625 20.328125 58.90625 \r\nQ 16.5 51.421875 16.5 36.375 \r\nQ 16.5 21.390625 20.328125 13.890625 \r\nQ 24.171875 6.390625 31.78125 6.390625 \r\nQ 39.453125 6.390625 43.28125 13.890625 \r\nQ 47.125 21.390625 47.125 36.375 \r\nQ 47.125 51.421875 43.28125 58.90625 \r\nQ 39.453125 66.40625 31.78125 66.40625 \r\nz\r\nM 31.78125 74.21875 \r\nQ 44.046875 74.21875 50.515625 64.515625 \r\nQ 56.984375 54.828125 56.984375 36.375 \r\nQ 56.984375 17.96875 50.515625 8.265625 \r\nQ 44.046875 -1.421875 31.78125 -1.421875 \r\nQ 19.53125 -1.421875 13.0625 8.265625 \r\nQ 6.59375 17.96875 6.59375 36.375 \r\nQ 6.59375 54.828125 13.0625 64.515625 \r\nQ 19.53125 74.21875 31.78125 74.21875 \r\nz\r\n\" id=\"DejaVuSans-48\"/>\r\n      </defs>\r\n      <g transform=\"translate(30.217553 157.269332)scale(0.1 -0.1)\">\r\n       <use xlink:href=\"#DejaVuSans-48\"/>\r\n      </g>\r\n     </g>\r\n    </g>\r\n    <g id=\"xtick_2\">\r\n     <g id=\"line2d_2\">\r\n      <g>\r\n       <use style=\"stroke:#000000;stroke-width:0.8;\" x=\"77.92008\" xlink:href=\"#md88c2b602a\" y=\"142.670894\"/>\r\n      </g>\r\n     </g>\r\n     <g id=\"text_2\">\r\n      <!-- 200 -->\r\n      <defs>\r\n       <path d=\"M 19.1875 8.296875 \r\nL 53.609375 8.296875 \r\nL 53.609375 0 \r\nL 7.328125 0 \r\nL 7.328125 8.296875 \r\nQ 12.9375 14.109375 22.625 23.890625 \r\nQ 32.328125 33.6875 34.8125 36.53125 \r\nQ 39.546875 41.84375 41.421875 45.53125 \r\nQ 43.3125 49.21875 43.3125 52.78125 \r\nQ 43.3125 58.59375 39.234375 62.25 \r\nQ 35.15625 65.921875 28.609375 65.921875 \r\nQ 23.96875 65.921875 18.8125 64.3125 \r\nQ 13.671875 62.703125 7.8125 59.421875 \r\nL 7.8125 69.390625 \r\nQ 13.765625 71.78125 18.9375 73 \r\nQ 24.125 74.21875 28.421875 74.21875 \r\nQ 39.75 74.21875 46.484375 68.546875 \r\nQ 53.21875 62.890625 53.21875 53.421875 \r\nQ 53.21875 48.921875 51.53125 44.890625 \r\nQ 49.859375 40.875 45.40625 35.40625 \r\nQ 44.1875 33.984375 37.640625 27.21875 \r\nQ 31.109375 20.453125 19.1875 8.296875 \r\nz\r\n\" id=\"DejaVuSans-50\"/>\r\n      </defs>\r\n      <g transform=\"translate(68.37633 157.269332)scale(0.1 -0.1)\">\r\n       <use xlink:href=\"#DejaVuSans-50\"/>\r\n       <use x=\"63.623047\" xlink:href=\"#DejaVuSans-48\"/>\r\n       <use x=\"127.246094\" xlink:href=\"#DejaVuSans-48\"/>\r\n      </g>\r\n     </g>\r\n    </g>\r\n    <g id=\"xtick_3\">\r\n     <g id=\"line2d_3\">\r\n      <g>\r\n       <use style=\"stroke:#000000;stroke-width:0.8;\" x=\"122.441356\" xlink:href=\"#md88c2b602a\" y=\"142.670894\"/>\r\n      </g>\r\n     </g>\r\n     <g id=\"text_3\">\r\n      <!-- 400 -->\r\n      <defs>\r\n       <path d=\"M 37.796875 64.3125 \r\nL 12.890625 25.390625 \r\nL 37.796875 25.390625 \r\nz\r\nM 35.203125 72.90625 \r\nL 47.609375 72.90625 \r\nL 47.609375 25.390625 \r\nL 58.015625 25.390625 \r\nL 58.015625 17.1875 \r\nL 47.609375 17.1875 \r\nL 47.609375 0 \r\nL 37.796875 0 \r\nL 37.796875 17.1875 \r\nL 4.890625 17.1875 \r\nL 4.890625 26.703125 \r\nz\r\n\" id=\"DejaVuSans-52\"/>\r\n      </defs>\r\n      <g transform=\"translate(112.897606 157.269332)scale(0.1 -0.1)\">\r\n       <use xlink:href=\"#DejaVuSans-52\"/>\r\n       <use x=\"63.623047\" xlink:href=\"#DejaVuSans-48\"/>\r\n       <use x=\"127.246094\" xlink:href=\"#DejaVuSans-48\"/>\r\n      </g>\r\n     </g>\r\n    </g>\r\n    <g id=\"xtick_4\">\r\n     <g id=\"line2d_4\">\r\n      <g>\r\n       <use style=\"stroke:#000000;stroke-width:0.8;\" x=\"166.962633\" xlink:href=\"#md88c2b602a\" y=\"142.670894\"/>\r\n      </g>\r\n     </g>\r\n     <g id=\"text_4\">\r\n      <!-- 600 -->\r\n      <defs>\r\n       <path d=\"M 33.015625 40.375 \r\nQ 26.375 40.375 22.484375 35.828125 \r\nQ 18.609375 31.296875 18.609375 23.390625 \r\nQ 18.609375 15.53125 22.484375 10.953125 \r\nQ 26.375 6.390625 33.015625 6.390625 \r\nQ 39.65625 6.390625 43.53125 10.953125 \r\nQ 47.40625 15.53125 47.40625 23.390625 \r\nQ 47.40625 31.296875 43.53125 35.828125 \r\nQ 39.65625 40.375 33.015625 40.375 \r\nz\r\nM 52.59375 71.296875 \r\nL 52.59375 62.3125 \r\nQ 48.875 64.0625 45.09375 64.984375 \r\nQ 41.3125 65.921875 37.59375 65.921875 \r\nQ 27.828125 65.921875 22.671875 59.328125 \r\nQ 17.53125 52.734375 16.796875 39.40625 \r\nQ 19.671875 43.65625 24.015625 45.921875 \r\nQ 28.375 48.1875 33.59375 48.1875 \r\nQ 44.578125 48.1875 50.953125 41.515625 \r\nQ 57.328125 34.859375 57.328125 23.390625 \r\nQ 57.328125 12.15625 50.6875 5.359375 \r\nQ 44.046875 -1.421875 33.015625 -1.421875 \r\nQ 20.359375 -1.421875 13.671875 8.265625 \r\nQ 6.984375 17.96875 6.984375 36.375 \r\nQ 6.984375 53.65625 15.1875 63.9375 \r\nQ 23.390625 74.21875 37.203125 74.21875 \r\nQ 40.921875 74.21875 44.703125 73.484375 \r\nQ 48.484375 72.75 52.59375 71.296875 \r\nz\r\n\" id=\"DejaVuSans-54\"/>\r\n      </defs>\r\n      <g transform=\"translate(157.418883 157.269332)scale(0.1 -0.1)\">\r\n       <use xlink:href=\"#DejaVuSans-54\"/>\r\n       <use x=\"63.623047\" xlink:href=\"#DejaVuSans-48\"/>\r\n       <use x=\"127.246094\" xlink:href=\"#DejaVuSans-48\"/>\r\n      </g>\r\n     </g>\r\n    </g>\r\n    <g id=\"xtick_5\">\r\n     <g id=\"line2d_5\">\r\n      <g>\r\n       <use style=\"stroke:#000000;stroke-width:0.8;\" x=\"211.48391\" xlink:href=\"#md88c2b602a\" y=\"142.670894\"/>\r\n      </g>\r\n     </g>\r\n     <g id=\"text_5\">\r\n      <!-- 800 -->\r\n      <defs>\r\n       <path d=\"M 31.78125 34.625 \r\nQ 24.75 34.625 20.71875 30.859375 \r\nQ 16.703125 27.09375 16.703125 20.515625 \r\nQ 16.703125 13.921875 20.71875 10.15625 \r\nQ 24.75 6.390625 31.78125 6.390625 \r\nQ 38.8125 6.390625 42.859375 10.171875 \r\nQ 46.921875 13.96875 46.921875 20.515625 \r\nQ 46.921875 27.09375 42.890625 30.859375 \r\nQ 38.875 34.625 31.78125 34.625 \r\nz\r\nM 21.921875 38.8125 \r\nQ 15.578125 40.375 12.03125 44.71875 \r\nQ 8.5 49.078125 8.5 55.328125 \r\nQ 8.5 64.0625 14.71875 69.140625 \r\nQ 20.953125 74.21875 31.78125 74.21875 \r\nQ 42.671875 74.21875 48.875 69.140625 \r\nQ 55.078125 64.0625 55.078125 55.328125 \r\nQ 55.078125 49.078125 51.53125 44.71875 \r\nQ 48 40.375 41.703125 38.8125 \r\nQ 48.828125 37.15625 52.796875 32.3125 \r\nQ 56.78125 27.484375 56.78125 20.515625 \r\nQ 56.78125 9.90625 50.3125 4.234375 \r\nQ 43.84375 -1.421875 31.78125 -1.421875 \r\nQ 19.734375 -1.421875 13.25 4.234375 \r\nQ 6.78125 9.90625 6.78125 20.515625 \r\nQ 6.78125 27.484375 10.78125 32.3125 \r\nQ 14.796875 37.15625 21.921875 38.8125 \r\nz\r\nM 18.3125 54.390625 \r\nQ 18.3125 48.734375 21.84375 45.5625 \r\nQ 25.390625 42.390625 31.78125 42.390625 \r\nQ 38.140625 42.390625 41.71875 45.5625 \r\nQ 45.3125 48.734375 45.3125 54.390625 \r\nQ 45.3125 60.0625 41.71875 63.234375 \r\nQ 38.140625 66.40625 31.78125 66.40625 \r\nQ 25.390625 66.40625 21.84375 63.234375 \r\nQ 18.3125 60.0625 18.3125 54.390625 \r\nz\r\n\" id=\"DejaVuSans-56\"/>\r\n      </defs>\r\n      <g transform=\"translate(201.94016 157.269332)scale(0.1 -0.1)\">\r\n       <use xlink:href=\"#DejaVuSans-56\"/>\r\n       <use x=\"63.623047\" xlink:href=\"#DejaVuSans-48\"/>\r\n       <use x=\"127.246094\" xlink:href=\"#DejaVuSans-48\"/>\r\n      </g>\r\n     </g>\r\n    </g>\r\n    <g id=\"xtick_6\">\r\n     <g id=\"line2d_6\">\r\n      <g>\r\n       <use style=\"stroke:#000000;stroke-width:0.8;\" x=\"256.005186\" xlink:href=\"#md88c2b602a\" y=\"142.670894\"/>\r\n      </g>\r\n     </g>\r\n     <g id=\"text_6\">\r\n      <!-- 1000 -->\r\n      <defs>\r\n       <path d=\"M 12.40625 8.296875 \r\nL 28.515625 8.296875 \r\nL 28.515625 63.921875 \r\nL 10.984375 60.40625 \r\nL 10.984375 69.390625 \r\nL 28.421875 72.90625 \r\nL 38.28125 72.90625 \r\nL 38.28125 8.296875 \r\nL 54.390625 8.296875 \r\nL 54.390625 0 \r\nL 12.40625 0 \r\nz\r\n\" id=\"DejaVuSans-49\"/>\r\n      </defs>\r\n      <g transform=\"translate(243.280186 157.269332)scale(0.1 -0.1)\">\r\n       <use xlink:href=\"#DejaVuSans-49\"/>\r\n       <use x=\"63.623047\" xlink:href=\"#DejaVuSans-48\"/>\r\n       <use x=\"127.246094\" xlink:href=\"#DejaVuSans-48\"/>\r\n       <use x=\"190.869141\" xlink:href=\"#DejaVuSans-48\"/>\r\n      </g>\r\n     </g>\r\n    </g>\r\n    <g id=\"xtick_7\">\r\n     <g id=\"line2d_7\">\r\n      <g>\r\n       <use style=\"stroke:#000000;stroke-width:0.8;\" x=\"300.526463\" xlink:href=\"#md88c2b602a\" y=\"142.670894\"/>\r\n      </g>\r\n     </g>\r\n     <g id=\"text_7\">\r\n      <!-- 1200 -->\r\n      <g transform=\"translate(287.801463 157.269332)scale(0.1 -0.1)\">\r\n       <use xlink:href=\"#DejaVuSans-49\"/>\r\n       <use x=\"63.623047\" xlink:href=\"#DejaVuSans-50\"/>\r\n       <use x=\"127.246094\" xlink:href=\"#DejaVuSans-48\"/>\r\n       <use x=\"190.869141\" xlink:href=\"#DejaVuSans-48\"/>\r\n      </g>\r\n     </g>\r\n    </g>\r\n    <g id=\"xtick_8\">\r\n     <g id=\"line2d_8\">\r\n      <g>\r\n       <use style=\"stroke:#000000;stroke-width:0.8;\" x=\"345.047739\" xlink:href=\"#md88c2b602a\" y=\"142.670894\"/>\r\n      </g>\r\n     </g>\r\n     <g id=\"text_8\">\r\n      <!-- 1400 -->\r\n      <g transform=\"translate(332.322739 157.269332)scale(0.1 -0.1)\">\r\n       <use xlink:href=\"#DejaVuSans-49\"/>\r\n       <use x=\"63.623047\" xlink:href=\"#DejaVuSans-52\"/>\r\n       <use x=\"127.246094\" xlink:href=\"#DejaVuSans-48\"/>\r\n       <use x=\"190.869141\" xlink:href=\"#DejaVuSans-48\"/>\r\n      </g>\r\n     </g>\r\n    </g>\r\n   </g>\r\n   <g id=\"matplotlib.axis_2\">\r\n    <g id=\"ytick_1\">\r\n     <g id=\"line2d_9\">\r\n      <defs>\r\n       <path d=\"M 0 0 \r\nL -3.5 0 \r\n\" id=\"m08ea560ac4\" style=\"stroke:#000000;stroke-width:0.8;\"/>\r\n      </defs>\r\n      <g>\r\n       <use style=\"stroke:#000000;stroke-width:0.8;\" x=\"33.2875\" xlink:href=\"#m08ea560ac4\" y=\"10.999219\"/>\r\n      </g>\r\n     </g>\r\n     <g id=\"text_9\">\r\n      <!-- 0 -->\r\n      <g transform=\"translate(19.925 14.798437)scale(0.1 -0.1)\">\r\n       <use xlink:href=\"#DejaVuSans-48\"/>\r\n      </g>\r\n     </g>\r\n    </g>\r\n    <g id=\"ytick_2\">\r\n     <g id=\"line2d_10\">\r\n      <g>\r\n       <use style=\"stroke:#000000;stroke-width:0.8;\" x=\"33.2875\" xlink:href=\"#m08ea560ac4\" y=\"33.259857\"/>\r\n      </g>\r\n     </g>\r\n     <g id=\"text_10\">\r\n      <!-- 100 -->\r\n      <g transform=\"translate(7.2 37.059076)scale(0.1 -0.1)\">\r\n       <use xlink:href=\"#DejaVuSans-49\"/>\r\n       <use x=\"63.623047\" xlink:href=\"#DejaVuSans-48\"/>\r\n       <use x=\"127.246094\" xlink:href=\"#DejaVuSans-48\"/>\r\n      </g>\r\n     </g>\r\n    </g>\r\n    <g id=\"ytick_3\">\r\n     <g id=\"line2d_11\">\r\n      <g>\r\n       <use style=\"stroke:#000000;stroke-width:0.8;\" x=\"33.2875\" xlink:href=\"#m08ea560ac4\" y=\"55.520495\"/>\r\n      </g>\r\n     </g>\r\n     <g id=\"text_11\">\r\n      <!-- 200 -->\r\n      <g transform=\"translate(7.2 59.319714)scale(0.1 -0.1)\">\r\n       <use xlink:href=\"#DejaVuSans-50\"/>\r\n       <use x=\"63.623047\" xlink:href=\"#DejaVuSans-48\"/>\r\n       <use x=\"127.246094\" xlink:href=\"#DejaVuSans-48\"/>\r\n      </g>\r\n     </g>\r\n    </g>\r\n    <g id=\"ytick_4\">\r\n     <g id=\"line2d_12\">\r\n      <g>\r\n       <use style=\"stroke:#000000;stroke-width:0.8;\" x=\"33.2875\" xlink:href=\"#m08ea560ac4\" y=\"77.781134\"/>\r\n      </g>\r\n     </g>\r\n     <g id=\"text_12\">\r\n      <!-- 300 -->\r\n      <defs>\r\n       <path d=\"M 40.578125 39.3125 \r\nQ 47.65625 37.796875 51.625 33 \r\nQ 55.609375 28.21875 55.609375 21.1875 \r\nQ 55.609375 10.40625 48.1875 4.484375 \r\nQ 40.765625 -1.421875 27.09375 -1.421875 \r\nQ 22.515625 -1.421875 17.65625 -0.515625 \r\nQ 12.796875 0.390625 7.625 2.203125 \r\nL 7.625 11.71875 \r\nQ 11.71875 9.328125 16.59375 8.109375 \r\nQ 21.484375 6.890625 26.8125 6.890625 \r\nQ 36.078125 6.890625 40.9375 10.546875 \r\nQ 45.796875 14.203125 45.796875 21.1875 \r\nQ 45.796875 27.640625 41.28125 31.265625 \r\nQ 36.765625 34.90625 28.71875 34.90625 \r\nL 20.21875 34.90625 \r\nL 20.21875 43.015625 \r\nL 29.109375 43.015625 \r\nQ 36.375 43.015625 40.234375 45.921875 \r\nQ 44.09375 48.828125 44.09375 54.296875 \r\nQ 44.09375 59.90625 40.109375 62.90625 \r\nQ 36.140625 65.921875 28.71875 65.921875 \r\nQ 24.65625 65.921875 20.015625 65.03125 \r\nQ 15.375 64.15625 9.8125 62.3125 \r\nL 9.8125 71.09375 \r\nQ 15.4375 72.65625 20.34375 73.4375 \r\nQ 25.25 74.21875 29.59375 74.21875 \r\nQ 40.828125 74.21875 47.359375 69.109375 \r\nQ 53.90625 64.015625 53.90625 55.328125 \r\nQ 53.90625 49.265625 50.4375 45.09375 \r\nQ 46.96875 40.921875 40.578125 39.3125 \r\nz\r\n\" id=\"DejaVuSans-51\"/>\r\n      </defs>\r\n      <g transform=\"translate(7.2 81.580352)scale(0.1 -0.1)\">\r\n       <use xlink:href=\"#DejaVuSans-51\"/>\r\n       <use x=\"63.623047\" xlink:href=\"#DejaVuSans-48\"/>\r\n       <use x=\"127.246094\" xlink:href=\"#DejaVuSans-48\"/>\r\n      </g>\r\n     </g>\r\n    </g>\r\n    <g id=\"ytick_5\">\r\n     <g id=\"line2d_13\">\r\n      <g>\r\n       <use style=\"stroke:#000000;stroke-width:0.8;\" x=\"33.2875\" xlink:href=\"#m08ea560ac4\" y=\"100.041772\"/>\r\n      </g>\r\n     </g>\r\n     <g id=\"text_13\">\r\n      <!-- 400 -->\r\n      <g transform=\"translate(7.2 103.840991)scale(0.1 -0.1)\">\r\n       <use xlink:href=\"#DejaVuSans-52\"/>\r\n       <use x=\"63.623047\" xlink:href=\"#DejaVuSans-48\"/>\r\n       <use x=\"127.246094\" xlink:href=\"#DejaVuSans-48\"/>\r\n      </g>\r\n     </g>\r\n    </g>\r\n    <g id=\"ytick_6\">\r\n     <g id=\"line2d_14\">\r\n      <g>\r\n       <use style=\"stroke:#000000;stroke-width:0.8;\" x=\"33.2875\" xlink:href=\"#m08ea560ac4\" y=\"122.30241\"/>\r\n      </g>\r\n     </g>\r\n     <g id=\"text_14\">\r\n      <!-- 500 -->\r\n      <defs>\r\n       <path d=\"M 10.796875 72.90625 \r\nL 49.515625 72.90625 \r\nL 49.515625 64.59375 \r\nL 19.828125 64.59375 \r\nL 19.828125 46.734375 \r\nQ 21.96875 47.46875 24.109375 47.828125 \r\nQ 26.265625 48.1875 28.421875 48.1875 \r\nQ 40.625 48.1875 47.75 41.5 \r\nQ 54.890625 34.8125 54.890625 23.390625 \r\nQ 54.890625 11.625 47.5625 5.09375 \r\nQ 40.234375 -1.421875 26.90625 -1.421875 \r\nQ 22.3125 -1.421875 17.546875 -0.640625 \r\nQ 12.796875 0.140625 7.71875 1.703125 \r\nL 7.71875 11.625 \r\nQ 12.109375 9.234375 16.796875 8.0625 \r\nQ 21.484375 6.890625 26.703125 6.890625 \r\nQ 35.15625 6.890625 40.078125 11.328125 \r\nQ 45.015625 15.765625 45.015625 23.390625 \r\nQ 45.015625 31 40.078125 35.4375 \r\nQ 35.15625 39.890625 26.703125 39.890625 \r\nQ 22.75 39.890625 18.8125 39.015625 \r\nQ 14.890625 38.140625 10.796875 36.28125 \r\nz\r\n\" id=\"DejaVuSans-53\"/>\r\n      </defs>\r\n      <g transform=\"translate(7.2 126.101629)scale(0.1 -0.1)\">\r\n       <use xlink:href=\"#DejaVuSans-53\"/>\r\n       <use x=\"63.623047\" xlink:href=\"#DejaVuSans-48\"/>\r\n       <use x=\"127.246094\" xlink:href=\"#DejaVuSans-48\"/>\r\n      </g>\r\n     </g>\r\n    </g>\r\n   </g>\r\n   <g id=\"patch_3\">\r\n    <path d=\"M 33.2875 142.670894 \r\nL 33.2875 10.887916 \r\n\" style=\"fill:none;stroke:#000000;stroke-linecap:square;stroke-linejoin:miter;stroke-width:0.8;\"/>\r\n   </g>\r\n   <g id=\"patch_4\">\r\n    <path d=\"M 368.0875 142.670894 \r\nL 368.0875 10.887916 \r\n\" style=\"fill:none;stroke:#000000;stroke-linecap:square;stroke-linejoin:miter;stroke-width:0.8;\"/>\r\n   </g>\r\n   <g id=\"patch_5\">\r\n    <path d=\"M 33.2875 142.670894 \r\nL 368.0875 142.670894 \r\n\" style=\"fill:none;stroke:#000000;stroke-linecap:square;stroke-linejoin:miter;stroke-width:0.8;\"/>\r\n   </g>\r\n   <g id=\"patch_6\">\r\n    <path d=\"M 33.2875 10.887916 \r\nL 368.0875 10.887916 \r\n\" style=\"fill:none;stroke:#000000;stroke-linecap:square;stroke-linejoin:miter;stroke-width:0.8;\"/>\r\n   </g>\r\n  </g>\r\n </g>\r\n <defs>\r\n  <clipPath id=\"p8ae2ecc9c0\">\r\n   <rect height=\"131.782979\" width=\"334.8\" x=\"33.2875\" y=\"10.887916\"/>\r\n  </clipPath>\r\n </defs>\r\n</svg>\r\n",
      "image/png": "[encoded data removed]"
     },
     "metadata": {
      "needs_background": "light"
     }
    }
   ],
   "source": [
    "image_path = \"./data/RAW/formation0.jpg\"\n",
    "model_path = \"./data/OUTPUT/model_A-Z.h5\"\n",
    "F.picture_analysis(image_path, model_path)"
   ]
  },
  {
   "source": [
    "## Using Tesseract"
   ],
   "cell_type": "markdown",
   "metadata": {}
  },
  {
   "cell_type": "code",
   "execution_count": null,
   "metadata": {},
   "outputs": [],
   "source": [
    "def ocr_core(filename):\n",
    "    \"\"\"\n",
    "    This function will handle the core OCR processing of images.\n",
    "    \"\"\"\n",
    "    text = pytesseract.image_to_string(Image.open(filename))  # We'll use Pillow's Image class to open the image and pytesseract to detect the string in the image\n",
    "    return text\n",
    "\n",
    "print(ocr_core(image_path))"
   ]
  },
  {
   "source": [
    "# Bonus 2: Reading contents of PDF using OCR (Optical Character Recognition)\n"
   ],
   "cell_type": "markdown",
   "metadata": {}
  },
  {
   "cell_type": "code",
   "execution_count": null,
   "metadata": {},
   "outputs": [],
   "source": [
    "# Path of the pdf \n",
    "PDF_file = \"../data/FAC0001.pdf\""
   ]
  },
  {
   "source": [
    "## Part #1 - Converting PDF to images"
   ],
   "cell_type": "markdown",
   "metadata": {}
  },
  {
   "cell_type": "code",
   "execution_count": null,
   "metadata": {},
   "outputs": [],
   "source": [
    "# Store all the pages of the PDF in a variable \n",
    "pages = convert_from_path(PDF_file, 500) \n",
    "  \n",
    "# Counter to store images of each page of PDF to image \n",
    "image_counter = 1\n",
    "  \n",
    "# Iterate through all the pages stored above \n",
    "for page in pages: \n",
    "    # Declaring filename for each page of PDF as JPG \n",
    "    # For each page, filename will be: \n",
    "    # PDF page 1 -> page_1.jpg \n",
    "    # PDF page 2 -> page_2.jpg \n",
    "    # PDF page 3 -> page_3.jpg \n",
    "    # .... \n",
    "    # PDF page n -> page_n.jpg \n",
    "    filename = \"../data/images/page_\"+str(image_counter)+\".jpg\"\n",
    "      \n",
    "    # Save the image of the page in system \n",
    "    page.save(filename, 'JPEG') \n",
    "  \n",
    "    # Increment the counter to update filename \n",
    "    image_counter = image_counter + 1"
   ]
  },
  {
   "source": [
    "## Part #2 - Recognizing text from the images using OCR"
   ],
   "cell_type": "markdown",
   "metadata": {}
  },
  {
   "cell_type": "code",
   "execution_count": null,
   "metadata": {},
   "outputs": [],
   "source": [
    "# Variable to get count of total number of pages \n",
    "filelimit = image_counter-1\n",
    "  \n",
    "# Creating a text file to write the output \n",
    "outfile = \"../data/images/out_text.txt\"\n",
    "  \n",
    "# Open the file in append mode so that  \n",
    "# All contents of all images are added to the same file \n",
    "f = open(outfile, \"a\") \n",
    "\n",
    "pytesseract.pytesseract.tesseract_cmd = r'C:\\Users\\utilisateur\\AppData\\Local\\Tesseract-OCR\\tesseract.exe'  \n",
    "# Iterate from 1 to total number of pages \n",
    "for i in range(1, filelimit + 1): \n",
    "  \n",
    "    # Set filename to recognize text from \n",
    "    # Again, these files will be: \n",
    "    # page_1.jpg \n",
    "    # page_2.jpg \n",
    "    # .... \n",
    "    # page_n.jpg \n",
    "    filename = \"../data/images/page_\"+str(i)+\".jpg\"\n",
    "          \n",
    "    # Recognize the text as string in image using pytesseract\n",
    "    text = str(((pytesseract.image_to_string(Image.open(filename))))) \n",
    "  \n",
    "    # The recognized text is stored in variable text \n",
    "    # Any string processing may be applied on text \n",
    "    # Here, basic formatting has been done: \n",
    "    # In many PDFs, at line ending, if a word can't \n",
    "    # be written fully, a 'hyphen' is added. \n",
    "    # The rest of the word is written in the next line \n",
    "    # Eg: This is a sample text this word here GeeksF- \n",
    "    # orGeeks is half on first line, remaining on next. \n",
    "    # To remove this, we replace every '-\\n' to ''. \n",
    "    text = text.replace('-\\n', '')     \n",
    "  \n",
    "    # Finally, write the processed text to the file. \n",
    "    f.write(text) \n",
    "  \n",
    "# Close the file after writing all the text. \n",
    "f.close()"
   ]
  },
  {
   "cell_type": "code",
   "execution_count": null,
   "metadata": {},
   "outputs": [],
   "source": []
  }
 ]
}